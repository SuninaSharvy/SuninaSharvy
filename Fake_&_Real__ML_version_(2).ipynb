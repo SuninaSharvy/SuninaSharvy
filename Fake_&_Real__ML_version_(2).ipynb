{
  "nbformat": 4,
  "nbformat_minor": 0,
  "metadata": {
    "colab": {
      "provenance": []
    },
    "kernelspec": {
      "name": "python3",
      "display_name": "Python 3"
    },
    "language_info": {
      "name": "python"
    }
  },
  "cells": [
    {
      "cell_type": "markdown",
      "source": [
        "## **Section 1 - Module & Library Imports**"
      ],
      "metadata": {
        "id": "54-Ql1cLlji6"
      }
    },
    {
      "cell_type": "code",
      "source": [
        "# Install the tensorflow addons package,\n",
        "# which has a nice image rotation function\n",
        "!pip install tensorflow-addons"
      ],
      "metadata": {
        "colab": {
          "base_uri": "https://localhost:8080/"
        },
        "id": "tuCdNV2Bloex",
        "outputId": "b0e6f870-2b21-4b7d-9fed-f226073189e1"
      },
      "execution_count": null,
      "outputs": [
        {
          "output_type": "stream",
          "name": "stdout",
          "text": [
            "Looking in indexes: https://pypi.org/simple, https://us-python.pkg.dev/colab-wheels/public/simple/\n",
            "Collecting tensorflow-addons\n",
            "  Downloading tensorflow_addons-0.19.0-cp38-cp38-manylinux_2_17_x86_64.manylinux2014_x86_64.whl (1.1 MB)\n",
            "\u001b[2K     \u001b[90m━━━━━━━━━━━━━━━━━━━━━━━━━━━━━━━━━━━━━━━━\u001b[0m \u001b[32m1.1/1.1 MB\u001b[0m \u001b[31m14.8 MB/s\u001b[0m eta \u001b[36m0:00:00\u001b[0m\n",
            "\u001b[?25hRequirement already satisfied: typeguard>=2.7 in /usr/local/lib/python3.8/dist-packages (from tensorflow-addons) (2.7.1)\n",
            "Requirement already satisfied: packaging in /usr/local/lib/python3.8/dist-packages (from tensorflow-addons) (21.3)\n",
            "Requirement already satisfied: pyparsing!=3.0.5,>=2.0.2 in /usr/local/lib/python3.8/dist-packages (from packaging->tensorflow-addons) (3.0.9)\n",
            "Installing collected packages: tensorflow-addons\n",
            "Successfully installed tensorflow-addons-0.19.0\n"
          ]
        }
      ]
    },
    {
      "cell_type": "code",
      "source": [
        "# Module imports\n",
        "import tensorflow as tf\n",
        "from tensorflow import keras\n",
        "import matplotlib.pyplot as plt\n",
        "from tensorflow.keras.models import Sequential\n",
        "from tensorflow.keras import layers, models\n",
        "from tensorflow.keras.layers import Dense\n",
        "from tensorflow.keras import models, layers, optimizers, losses\n",
        "from tensorflow._api.v2.data import AUTOTUNE\n",
        "import tensorflow_datasets as tfds\n",
        "import tensorflow_addons as tfa\n",
        "import numpy as np\n",
        "import matplotlib.pyplot as plt"
      ],
      "metadata": {
        "id": "94sLJWbGmA-i"
      },
      "execution_count": null,
      "outputs": []
    },
    {
      "cell_type": "code",
      "source": [
        "train_ds"
      ],
      "metadata": {
        "colab": {
          "base_uri": "https://localhost:8080/"
        },
        "id": "oNMeSwpYEIUs",
        "outputId": "450dcca6-bfff-4bda-92c1-3135cc98ef5e"
      },
      "execution_count": null,
      "outputs": [
        {
          "output_type": "execute_result",
          "data": {
            "text/plain": [
              "<PrefetchDataset element_spec=(TensorSpec(shape=(None, 32, 32, 3), dtype=tf.float32, name=None), TensorSpec(shape=(None,), dtype=tf.int32, name=None))>"
            ]
          },
          "metadata": {},
          "execution_count": 263
        }
      ]
    },
    {
      "cell_type": "code",
      "source": [
        "val_ds"
      ],
      "metadata": {
        "colab": {
          "base_uri": "https://localhost:8080/"
        },
        "id": "nP3D5EVqxt-n",
        "outputId": "6dc91b42-9dd2-4a13-f7ce-6bae18b2b5ed"
      },
      "execution_count": null,
      "outputs": [
        {
          "output_type": "execute_result",
          "data": {
            "text/plain": [
              "<PrefetchDataset element_spec=(TensorSpec(shape=(None, 32, 32, 3), dtype=tf.float32, name=None), TensorSpec(shape=(None,), dtype=tf.int32, name=None))>"
            ]
          },
          "metadata": {},
          "execution_count": 264
        }
      ]
    },
    {
      "cell_type": "code",
      "source": [
        "## Ploting the Original & Reconstructed Image\n",
        "## Defining plot with figure size,background color & plot title\n",
        "#n = 10  \n",
        "#plt.figure(figsize=(30, 8))\n",
        "##plt.rcParams['axes.facecolor'] = 'black'\n",
        "#plt.suptitle(\"Fig:4-Training Dataset\", fontsize=\"x-large\",color='black')\n",
        "\n",
        "## Unbactching the tuple image dataset for the correct ploting format\n",
        "#test_ds1 = train_ds.unbatch().take(25)\n",
        "#test_ds1 = [image for image in test_ds1]\n",
        "\n",
        "## Iterating over both original & VAE model reconstructed images\n",
        "#for i in range(n):\n",
        "    ## display original image\n",
        "    #ax = plt.subplot(3, n, i + 1)\n",
        "    #plt.imshow(test_ds1[i][0])\n",
        "    #plt.gray()\n",
        "    #ax.get_xaxis().set_visible(False)\n",
        "    #ax.get_yaxis().set_visible(False)"
      ],
      "metadata": {
        "id": "uaRhnxC0i0_j"
      },
      "execution_count": null,
      "outputs": []
    },
    {
      "cell_type": "markdown",
      "source": [
        "# Section 4 - Model Definitions"
      ],
      "metadata": {
        "id": "zT3uVx567V68"
      }
    },
    {
      "cell_type": "code",
      "source": [
        "# New Optimised Model Definition\n",
        "\n",
        "\n",
        "def cnn_model():\n",
        "    model = Sequential([\n",
        "    layers.Input(shape=IMG_SIZE+(3,), name='Input'),\n",
        "    layers.Conv2D(16,(4,4), padding='same', activation='relu',\n",
        "                    name='Conv_1'),\n",
        "    layers.MaxPooling2D((2, 2),name='Pool_1'), \n",
        "    layers.Conv2D(32,(4,4), padding='same', activation='relu',\n",
        "                    name='Conv_2'),\n",
        "    layers.MaxPooling2D((2, 2),name='Pool_2'), \n",
        "    layers.Conv2D(64,(3,3), padding='same', activation='relu',\n",
        "                    name='Conv_3'),\n",
        "    layers.MaxPooling2D((2, 2),name='Pool_3'), \n",
        "    layers.Conv2D(64,(3,3), padding='same', activation='relu',\n",
        "                    name='Conv_4'),\n",
        "    layers.MaxPooling2D((2, 2),name='Pool_4'), \n",
        "    layers.Conv2D(64,(3,3), padding='same', activation='relu',\n",
        "                    name='Conv_5'),\n",
        "    layers.MaxPooling2D((2, 2),name='Pool_5'),  \n",
        "    layers.Flatten(name='Flatten'),\n",
        "    layers.Dense(384, activation='relu', name='dense_1'),\n",
        "    layers.Dense(1,activation='softmax', name='Output')\n",
        "    ], name='CNN')\n",
        "    return model "
      ],
      "metadata": {
        "id": "moe7vG9tvTfP"
      },
      "execution_count": null,
      "outputs": []
    },
    {
      "cell_type": "code",
      "source": [
        "# Displaying Model Summary\n",
        "model = cnn_model()\n",
        "\n",
        "model.summary()"
      ],
      "metadata": {
        "colab": {
          "base_uri": "https://localhost:8080/"
        },
        "id": "3ogmmza5unBK",
        "outputId": "474e2575-f217-4611-ac7f-904131c7e767"
      },
      "execution_count": null,
      "outputs": [
        {
          "output_type": "stream",
          "name": "stdout",
          "text": [
            "Model: \"CNN\"\n",
            "_________________________________________________________________\n",
            " Layer (type)                Output Shape              Param #   \n",
            "=================================================================\n",
            " Conv_1 (Conv2D)             (None, 32, 32, 16)        784       \n",
            "                                                                 \n",
            " Pool_1 (MaxPooling2D)       (None, 16, 16, 16)        0         \n",
            "                                                                 \n",
            " Conv_2 (Conv2D)             (None, 16, 16, 32)        8224      \n",
            "                                                                 \n",
            " Pool_2 (MaxPooling2D)       (None, 8, 8, 32)          0         \n",
            "                                                                 \n",
            " Conv_3 (Conv2D)             (None, 8, 8, 64)          18496     \n",
            "                                                                 \n",
            " Pool_3 (MaxPooling2D)       (None, 4, 4, 64)          0         \n",
            "                                                                 \n",
            " Conv_4 (Conv2D)             (None, 4, 4, 64)          36928     \n",
            "                                                                 \n",
            " Pool_4 (MaxPooling2D)       (None, 2, 2, 64)          0         \n",
            "                                                                 \n",
            " Conv_5 (Conv2D)             (None, 2, 2, 64)          36928     \n",
            "                                                                 \n",
            " Pool_5 (MaxPooling2D)       (None, 1, 1, 64)          0         \n",
            "                                                                 \n",
            " Flatten (Flatten)           (None, 64)                0         \n",
            "                                                                 \n",
            " dense_1 (Dense)             (None, 384)               24960     \n",
            "                                                                 \n",
            " Output (Dense)              (None, 1)                 385       \n",
            "                                                                 \n",
            "=================================================================\n",
            "Total params: 126,705\n",
            "Trainable params: 126,705\n",
            "Non-trainable params: 0\n",
            "_________________________________________________________________\n"
          ]
        }
      ]
    },
    {
      "cell_type": "code",
      "source": [],
      "metadata": {
        "id": "RsNKRO6SDKMG"
      },
      "execution_count": null,
      "outputs": []
    },
    {
      "cell_type": "code",
      "source": [
        "# We have tried different optimizers including Adam & SGD. Both are evaluvated \n",
        "## based on different learning rates. From our trial & error we came to the \n",
        "### conlusion that, Optimizer Adam() with learning rate 1e-5 providing best model\n",
        "#### performance\n",
        "\n",
        "opt = tf.keras.optimizers.Adam(learning_rate=0.001)\n",
        "\n",
        "# Setting up Binary classification loss\n",
        "#loss_obj = tf.keras.losses.SparseCategoricalCrossentropy(from_logits=False)\n",
        "\n",
        "loss_obj = tf.keras.losses.BinaryCrossentropy(from_logits=False)\n",
        "\n",
        "# Accuracy metric\n",
        "metrics = ['accuracy']\n",
        "\n",
        "# Compiling the model with XLA JIT Compiler\n",
        "model.compile(optimizer=opt,jit_compile=True,\n",
        "              loss=loss_obj,\n",
        "              metrics=metrics)"
      ],
      "metadata": {
        "id": "-58GataJCy1d"
      },
      "execution_count": null,
      "outputs": []
    },
    {
      "cell_type": "code",
      "source": [
        "# Training the model using FIT function & training parameters are stored on a\n",
        "## history dictionary\n",
        "\n",
        "history = model.fit(train_ds,\n",
        "                    validation_data=val_ds,\n",
        "                    epochs=EPOCHS)"
      ],
      "metadata": {
        "id": "wcJvXnicDlGt"
      },
      "execution_count": null,
      "outputs": []
    },
    {
      "cell_type": "code",
      "source": [
        "# Checking the common keys on the metrics history\n",
        "history.history.keys()"
      ],
      "metadata": {
        "colab": {
          "base_uri": "https://localhost:8080/"
        },
        "id": "IiH7DVLBW-nt",
        "outputId": "d2c1638f-3e4b-4d28-a372-d03a4f84f94e"
      },
      "execution_count": null,
      "outputs": [
        {
          "output_type": "execute_result",
          "data": {
            "text/plain": [
              "dict_keys(['loss', 'accuracy', 'val_loss', 'val_accuracy'])"
            ]
          },
          "metadata": {},
          "execution_count": 236
        }
      ]
    },
    {
      "cell_type": "code",
      "source": [
        "# Plot the losses and metrics for the training and test data\n",
        "# Defining plot with figure size,background color & plot title\n",
        "f, ax = plt.subplots(1,2, figsize=(12,4))\n",
        "f.suptitle(\"Fig3:-Losses & Metrics Plot from Optimized Model\", fontsize=\"x-large\")\n",
        "f.patch.set_facecolor('palegreen')\n",
        "\n",
        "# Ploting obtained loss metrics from model training\n",
        "ax[0].plot(history.history['loss'], label='Training')\n",
        "ax[0].plot(history.history['val_loss'], label='Validation')\n",
        "\n",
        "# Setting axis,labels & plot color\n",
        "ax[0].set_ylabel('Model Loss')\n",
        "ax[0].set_xlabel('Epoch')\n",
        "ax[0].set_facecolor(\"lightgrey\")\n",
        "ax[0].set_title ('Loss Graph')\n",
        "\n",
        "# Ploting obtained loss metrics from model training\n",
        "ax[1].plot(history.history['accuracy'], label='Training')\n",
        "ax[1].plot(history.history['val_accuracy'], label='Validation')\n",
        "\n",
        "# Setting axis,labels & plot color\n",
        "ax[1].set_ylabel('Model Accuracy')\n",
        "ax[1].set_xlabel('Epoch')\n",
        "ax[1].set_facecolor(\"lightgrey\")\n",
        "ax[1].set_title ('Accuracy Graph')\n",
        "\n",
        "plt.legend()"
      ],
      "metadata": {
        "colab": {
          "base_uri": "https://localhost:8080/",
          "height": 325
        },
        "id": "_zciK3gjXItV",
        "outputId": "2602e2de-2617-482a-f497-1a2578c9e182"
      },
      "execution_count": null,
      "outputs": [
        {
          "output_type": "execute_result",
          "data": {
            "text/plain": [
              "<matplotlib.legend.Legend at 0x7f278e5e0040>"
            ]
          },
          "metadata": {},
          "execution_count": 237
        },
        {
          "output_type": "display_data",
          "data": {
            "text/plain": [
              "<Figure size 864x288 with 2 Axes>"
            ],
            "image/png": "[encoded data removed]"
          },
          "metadata": {}
        }
      ]
    },
    {
      "cell_type": "code",
      "source": [
        "# Evaluvating the Model Performance on the Test Data\n",
        "model_test_loss = model.evaluate(val_ds,return_dict=True)\n",
        "model_test_loss = model_test_loss['loss']\n",
        "print(\"Loss from Model Evaluvation using Test Data : {}\".format(model_test_loss))"
      ],
      "metadata": {
        "colab": {
          "base_uri": "https://localhost:8080/"
        },
        "id": "sGw2A8y9XV6c",
        "outputId": "7fbdfda0-f9e2-403e-9b51-55d7c04ff8be"
      },
      "execution_count": null,
      "outputs": [
        {
          "output_type": "stream",
          "name": "stdout",
          "text": [
            "22/22 [==============================] - 1s 36ms/step - loss: 1.4653 - accuracy: 0.7329\n",
            "Loss from Model Evaluvation using Test Data : 1.465348243713379\n"
          ]
        }
      ]
    }
  ]
}