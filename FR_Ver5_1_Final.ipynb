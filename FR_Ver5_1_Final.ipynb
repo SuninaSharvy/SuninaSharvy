{
  "nbformat": 4,
  "nbformat_minor": 0,
  "metadata": {
    "colab": {
      "provenance": [],
      "include_colab_link": true
    },
    "kernelspec": {
      "name": "python3",
      "display_name": "Python 3"
    },
    "language_info": {
      "name": "python"
    }
  },
  "cells": [
    {
      "cell_type": "markdown",
      "metadata": {
        "id": "view-in-github",
        "colab_type": "text"
      },
      "source": [
        "<a href=\"https://colab.research.google.com/github/SuninaSharvy/SuninaSharvy/blob/FR_ML-Project/FR_Ver5_1_Final.ipynb\" target=\"_parent\"><img src=\"https://colab.research.google.com/assets/colab-badge.svg\" alt=\"Open In Colab\"/></a>"
      ]
    },
    {
      "cell_type": "markdown",
      "source": [
        "#### **Section 4.1 - Model Definition & Layer Structure**"
      ],
      "metadata": {
        "id": "8jU5sTTSQu9C"
      }
    },
    {
      "cell_type": "code",
      "source": [
        "# Only 1 output neuron. It will contain a value from 0-1 where 0 for 1 class ('Fake') and 1 for the other ('Real')\n",
        "\n",
        "def cnn_model():\n",
        "    model = Sequential([\n",
        "    layers.Input(shape=IMG_SIZE+(3,), name='Input'),\n",
        "\n",
        "    layers.Conv2D(16,(3,3), padding='same', activation='relu',\n",
        "                    name='Conv_1'),\n",
        "    layers.MaxPooling2D((2, 2),name='Pool_1'), \n",
        "\n",
        "    layers.Conv2D(32,(3,3), padding='same', activation='relu',\n",
        "                    name='Conv_2'),\n",
        "    layers.MaxPooling2D((2, 2),name='Pool_2'), \n",
        "\n",
        "    layers.Conv2D(64,(3,3), padding='same', activation='relu',\n",
        "                    name='Conv_3'),\n",
        "    layers.MaxPooling2D((2, 2),name='Pool_3'), \n",
        "\n",
        "    layers.Conv2D(64,(3,3), padding='same', activation='relu',\n",
        "                    name='Conv_4'),\n",
        "    layers.MaxPooling2D((2, 2),name='Pool_4'), \n",
        "\n",
        "    layers.Conv2D(64,(3,3), padding='same', activation='relu',\n",
        "                    name='Conv_5'),\n",
        "    layers.MaxPooling2D((2, 2),name='Pool_5'), \n",
        "    \n",
        "    layers.Flatten(name='Flatten'),\n",
        "\n",
        "    layers.Dense(128, activation='relu', name='dense_1'),\n",
        "\n",
        "    layers.Dense(1,activation='sigmoid', name='Output')\n",
        "    ], name='CNN')\n",
        "\n",
        "    return model "
      ],
      "metadata": {
        "id": "GxYehq_RMEb0"
      },
      "execution_count": null,
      "outputs": []
    },
    {
      "cell_type": "code",
      "source": [
        "# Displaying Model Summary\n",
        "model = cnn_model()\n",
        "\n",
        "model.summary()"
      ],
      "metadata": {
        "colab": {
          "base_uri": "https://localhost:8080/"
        },
        "id": "3ogmmza5unBK",
        "outputId": "8053ad52-39b7-4a3b-b61e-883981908f91"
      },
      "execution_count": null,
      "outputs": [
        {
          "output_type": "stream",
          "name": "stdout",
          "text": [
            "Model: \"CNN\"\n",
            "_________________________________________________________________\n",
            " Layer (type)                Output Shape              Param #   \n",
            "=================================================================\n",
            " Conv_1 (Conv2D)             (None, 64, 64, 16)        448       \n",
            "                                                                 \n",
            " Pool_1 (MaxPooling2D)       (None, 32, 32, 16)        0         \n",
            "                                                                 \n",
            " Conv_2 (Conv2D)             (None, 32, 32, 32)        4640      \n",
            "                                                                 \n",
            " Pool_2 (MaxPooling2D)       (None, 16, 16, 32)        0         \n",
            "                                                                 \n",
            " Conv_3 (Conv2D)             (None, 16, 16, 64)        18496     \n",
            "                                                                 \n",
            " Pool_3 (MaxPooling2D)       (None, 8, 8, 64)          0         \n",
            "                                                                 \n",
            " Conv_4 (Conv2D)             (None, 8, 8, 64)          36928     \n",
            "                                                                 \n",
            " Pool_4 (MaxPooling2D)       (None, 4, 4, 64)          0         \n",
            "                                                                 \n",
            " Conv_5 (Conv2D)             (None, 4, 4, 64)          36928     \n",
            "                                                                 \n",
            " Pool_5 (MaxPooling2D)       (None, 2, 2, 64)          0         \n",
            "                                                                 \n",
            " Flatten (Flatten)           (None, 256)               0         \n",
            "                                                                 \n",
            " dense_1 (Dense)             (None, 128)               32896     \n",
            "                                                                 \n",
            " Output (Dense)              (None, 1)                 129       \n",
            "                                                                 \n",
            "=================================================================\n",
            "Total params: 130,465\n",
            "Trainable params: 130,465\n",
            "Non-trainable params: 0\n",
            "_________________________________________________________________\n"
          ]
        }
      ]
    },
    {
      "cell_type": "markdown",
      "source": [
        "#### **Section 4.2 - Model Compiling & Training using XLA Compiler**\n",
        "\n",
        "---\n",
        "We have tried different optimizers including Adam & SGD. Both are evaluvated based on different learning rates. From our trial & error we came to the conlude that, Optimizer Adam() with learning rate 1e-3 providing best model performance . To increase the training speed, we have incorporated XLA JIT Compiler on the model compile section\n"
      ],
      "metadata": {
        "id": "SSNh835IQ4JZ"
      }
    },
    {
      "cell_type": "code",
      "source": [
        "# We have tried different optimizers including Adam & SGD. Both are evaluvated \n",
        "## based on different learning rates. From our trial & error we came to the \n",
        "### conlusion that, Optimizer Adam() with learning rate 1e-3 providing best model\n",
        "#### performance\n",
        "\n",
        "opt = tf.keras.optimizers.Adam(learning_rate=0.0001)\n",
        "\n",
        "# Setting up Binary classification loss\n",
        "#loss_obj = tf.keras.losses.SparseCategoricalCrossentropy(from_logits=False)\n",
        "#loss_obj  =tf.keras.losses.CategoricalCrossentropy(from_logits=False)\n",
        "\n",
        "loss_obj = tf.keras.losses.BinaryCrossentropy(from_logits=False)\n",
        "\n",
        "# Accuracy metric\n",
        "metrics = ['accuracy']\n",
        "\n",
        "# Compiling the model with XLA JIT Compiler for improving training speed\n",
        "model.compile(optimizer=opt,jit_compile=True,\n",
        "              loss=loss_obj,\n",
        "              metrics=metrics)"
      ],
      "metadata": {
        "id": "-58GataJCy1d"
      },
      "execution_count": null,
      "outputs": []
    },
    {
      "cell_type": "code",
      "source": [
        "# Training the model using FIT function & training parameters are stored on a\n",
        "## history dictionary\n",
        "\n",
        "history = model.fit(train_ds,\n",
        "                    validation_data=val_ds,\n",
        "                    epochs=EPOCHS)"
      ],
      "metadata": {
        "id": "wcJvXnicDlGt",
        "colab": {
          "base_uri": "https://localhost:8080/"
        },
        "outputId": "06b548d9-3b71-4afb-a8f6-d92ae5e40dda"
      },
      "execution_count": null,
      "outputs": [
        {
          "output_type": "stream",
          "name": "stdout",
          "text": [
            "Epoch 1/20\n",
            "175/175 [==============================] - 98s 439ms/step - loss: 0.5549 - accuracy: 0.7161 - val_loss: 0.4884 - val_accuracy: 0.7607\n",
            "Epoch 2/20\n",
            "175/175 [==============================] - 50s 286ms/step - loss: 0.4502 - accuracy: 0.7779 - val_loss: 0.4242 - val_accuracy: 0.7971\n",
            "Epoch 3/20\n",
            "175/175 [==============================] - 53s 305ms/step - loss: 0.4016 - accuracy: 0.8202 - val_loss: 0.4008 - val_accuracy: 0.8057\n",
            "Epoch 4/20\n",
            "175/175 [==============================] - 53s 303ms/step - loss: 0.3847 - accuracy: 0.8321 - val_loss: 0.3935 - val_accuracy: 0.8121\n",
            "Epoch 5/20\n",
            "175/175 [==============================] - 46s 261ms/step - loss: 0.3747 - accuracy: 0.8373 - val_loss: 0.3877 - val_accuracy: 0.8200\n",
            "Epoch 6/20\n",
            "175/175 [==============================] - 48s 276ms/step - loss: 0.3658 - accuracy: 0.8409 - val_loss: 0.3811 - val_accuracy: 0.8236\n",
            "Epoch 7/20\n",
            "175/175 [==============================] - 54s 306ms/step - loss: 0.3579 - accuracy: 0.8427 - val_loss: 0.3748 - val_accuracy: 0.8250\n",
            "Epoch 8/20\n",
            "175/175 [==============================] - 48s 276ms/step - loss: 0.3501 - accuracy: 0.8466 - val_loss: 0.3691 - val_accuracy: 0.8236\n",
            "Epoch 9/20\n",
            "175/175 [==============================] - 47s 269ms/step - loss: 0.3435 - accuracy: 0.8482 - val_loss: 0.3650 - val_accuracy: 0.8236\n",
            "Epoch 10/20\n",
            "175/175 [==============================] - 51s 292ms/step - loss: 0.3371 - accuracy: 0.8521 - val_loss: 0.3639 - val_accuracy: 0.8286\n",
            "Epoch 11/20\n",
            "175/175 [==============================] - 56s 320ms/step - loss: 0.3313 - accuracy: 0.8532 - val_loss: 0.3626 - val_accuracy: 0.8307\n",
            "Epoch 12/20\n",
            "175/175 [==============================] - 52s 298ms/step - loss: 0.3258 - accuracy: 0.8545 - val_loss: 0.3618 - val_accuracy: 0.8343\n",
            "Epoch 13/20\n",
            "175/175 [==============================] - 49s 280ms/step - loss: 0.3204 - accuracy: 0.8557 - val_loss: 0.3614 - val_accuracy: 0.8336\n",
            "Epoch 14/20\n",
            "175/175 [==============================] - 48s 273ms/step - loss: 0.3156 - accuracy: 0.8593 - val_loss: 0.3607 - val_accuracy: 0.8343\n",
            "Epoch 15/20\n",
            "175/175 [==============================] - 47s 269ms/step - loss: 0.3108 - accuracy: 0.8616 - val_loss: 0.3591 - val_accuracy: 0.8350\n",
            "Epoch 16/20\n",
            "175/175 [==============================] - 56s 321ms/step - loss: 0.3061 - accuracy: 0.8645 - val_loss: 0.3586 - val_accuracy: 0.8350\n",
            "Epoch 17/20\n",
            "175/175 [==============================] - 54s 308ms/step - loss: 0.3015 - accuracy: 0.8666 - val_loss: 0.3589 - val_accuracy: 0.8336\n",
            "Epoch 18/20\n",
            "175/175 [==============================] - 54s 309ms/step - loss: 0.2970 - accuracy: 0.8687 - val_loss: 0.3590 - val_accuracy: 0.8336\n",
            "Epoch 19/20\n",
            "175/175 [==============================] - 54s 307ms/step - loss: 0.2926 - accuracy: 0.8714 - val_loss: 0.3588 - val_accuracy: 0.8314\n",
            "Epoch 20/20\n",
            "175/175 [==============================] - 49s 280ms/step - loss: 0.2879 - accuracy: 0.8739 - val_loss: 0.3596 - val_accuracy: 0.8321\n"
          ]
        }
      ]
    },
    {
      "cell_type": "markdown",
      "source": [
        "##### **Section 4.2.1 - Saving Model to Drive**"
      ],
      "metadata": {
        "id": "HdBwloy3SZGL"
      }
    }
  ]
}