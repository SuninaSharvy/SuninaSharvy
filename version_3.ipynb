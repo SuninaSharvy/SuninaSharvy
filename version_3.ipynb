{
  "cells": [
    {
      "cell_type": "markdown",
      "metadata": {
        "id": "view-in-github",
        "colab_type": "text"
      },
      "source": [
        "<a href=\"https://colab.research.google.com/github/SuninaSharvy/SuninaSharvy/blob/FR_ML-Project/version_3.ipynb\" target=\"_parent\"><img src=\"https://colab.research.google.com/assets/colab-badge.svg\" alt=\"Open In Colab\"/></a>"
      ]
    },
    {
      "cell_type": "markdown",
      "source": [
        "#Data Generators For Taining and Validation Data"
      ],
      "metadata": {
        "id": "3phUGqIcBGcb"
      }
    },
    {
      "cell_type": "code",
      "execution_count": null,
      "metadata": {
        "id": "jSpwhzGoC6YW"
      },
      "outputs": [],
      "source": [
        "train_datagen= image.ImageDataGenerator(\n",
        "    rescale=1./255,\n",
        "    shear_range=0.2,\n",
        "    zoom_range=0.2,\n",
        "    horizontal_flip=True,\n",
        ")\n",
        "test_dataset = image.ImageDataGenerator(rescale=1./255)"
      ]
    },
    {
      "cell_type": "code",
      "execution_count": null,
      "metadata": {
        "colab": {
          "base_uri": "https://localhost:8080/"
        },
        "id": "Dq-BJ8xZDDmn",
        "outputId": "6b143c71-b4ab-42c6-9c21-65f09bbdf59c"
      },
      "outputs": [
        {
          "output_type": "stream",
          "name": "stdout",
          "text": [
            "Found 6315 images belonging to 2 classes.\n"
          ]
        }
      ],
      "source": [
        "train_generator = train_datagen.flow_from_directory(\n",
        "    '/content/data/train',\n",
        "    target_size=(224,224),\n",
        "    batch_size=32,\n",
        "    class_mode='binary')"
      ]
    },
    {
      "cell_type": "code",
      "execution_count": null,
      "metadata": {
        "colab": {
          "base_uri": "https://localhost:8080/"
        },
        "id": "VLPKQC3qDNmd",
        "outputId": "f99e26a0-2cfb-41f1-97eb-49ed9388ff24"
      },
      "outputs": [
        {
          "output_type": "execute_result",
          "data": {
            "text/plain": [
              "{'Fake': 0, 'Real': 1}"
            ]
          },
          "metadata": {},
          "execution_count": 21
        }
      ],
      "source": [
        "train_generator.class_indices"
      ]
    },
    {
      "cell_type": "code",
      "execution_count": null,
      "metadata": {
        "colab": {
          "base_uri": "https://localhost:8080/"
        },
        "id": "nf53d_mIDTNT",
        "outputId": "8dc60bb0-de18-48c1-fa3e-ab531629fed3"
      },
      "outputs": [
        {
          "output_type": "stream",
          "name": "stdout",
          "text": [
            "Found 1353 images belonging to 2 classes.\n"
          ]
        }
      ],
      "source": [
        "validation_generator = test_dataset.flow_from_directory(\n",
        "    '/content/data/val',\n",
        "    target_size=(224,224),\n",
        "    batch_size=32,\n",
        "    class_mode='binary')"
      ]
    },
    {
      "cell_type": "markdown",
      "source": [
        "#Model Execution"
      ],
      "metadata": {
        "id": "ivT_qKMnBMOP"
      }
    },
    {
      "cell_type": "code",
      "execution_count": null,
      "metadata": {
        "colab": {
          "base_uri": "https://localhost:8080/"
        },
        "id": "WkxgSuvFDeEv",
        "outputId": "8bbb5576-722e-41e1-aa98-343766e4ebdd"
      },
      "outputs": [
        {
          "output_type": "stream",
          "name": "stderr",
          "text": [
            "<ipython-input-23-991ce616e715>:1: UserWarning: `Model.fit_generator` is deprecated and will be removed in a future version. Please use `Model.fit`, which supports generators.\n",
            "  hist=model.fit_generator(\n"
          ]
        },
        {
          "output_type": "stream",
          "name": "stdout",
          "text": [
            "Epoch 1/50\n",
            "198/198 [==============================] - 82s 411ms/step - loss: 0.5120 - accuracy: 0.7557 - val_loss: 0.3825 - val_accuracy: 0.8004\n",
            "Epoch 2/50\n",
            "198/198 [==============================] - 81s 408ms/step - loss: 0.3714 - accuracy: 0.8328 - val_loss: 0.3520 - val_accuracy: 0.8278\n",
            "Epoch 3/50\n",
            "198/198 [==============================] - 79s 400ms/step - loss: 0.3436 - accuracy: 0.8516 - val_loss: 0.3046 - val_accuracy: 0.8736\n",
            "Epoch 4/50\n",
            "198/198 [==============================] - 81s 408ms/step - loss: 0.3142 - accuracy: 0.8678 - val_loss: 0.3633 - val_accuracy: 0.8441\n",
            "Epoch 5/50\n",
            "198/198 [==============================] - 81s 408ms/step - loss: 0.3078 - accuracy: 0.8665 - val_loss: 0.3780 - val_accuracy: 0.8263\n",
            "Epoch 6/50\n",
            "198/198 [==============================] - 81s 408ms/step - loss: 0.3067 - accuracy: 0.8613 - val_loss: 0.2777 - val_accuracy: 0.8795\n",
            "Epoch 7/50\n",
            "198/198 [==============================] - 79s 400ms/step - loss: 0.3008 - accuracy: 0.8728 - val_loss: 0.3067 - val_accuracy: 0.8544\n",
            "Epoch 8/50\n",
            "198/198 [==============================] - 81s 407ms/step - loss: 0.2840 - accuracy: 0.8785 - val_loss: 0.2885 - val_accuracy: 0.8795\n",
            "Epoch 9/50\n",
            "198/198 [==============================] - 79s 400ms/step - loss: 0.2753 - accuracy: 0.8836 - val_loss: 0.2673 - val_accuracy: 0.8884\n",
            "Epoch 10/50\n",
            "198/198 [==============================] - 81s 407ms/step - loss: 0.2721 - accuracy: 0.8827 - val_loss: 0.2969 - val_accuracy: 0.8869\n",
            "Epoch 11/50\n",
            "198/198 [==============================] - 80s 401ms/step - loss: 0.2786 - accuracy: 0.8798 - val_loss: 0.2867 - val_accuracy: 0.8817\n",
            "Epoch 12/50\n",
            "198/198 [==============================] - 81s 409ms/step - loss: 0.2645 - accuracy: 0.8836 - val_loss: 0.2851 - val_accuracy: 0.8869\n",
            "Epoch 13/50\n",
            "198/198 [==============================] - 79s 400ms/step - loss: 0.2679 - accuracy: 0.8844 - val_loss: 0.2702 - val_accuracy: 0.8840\n",
            "Epoch 14/50\n",
            "198/198 [==============================] - 80s 406ms/step - loss: 0.2588 - accuracy: 0.8930 - val_loss: 0.2449 - val_accuracy: 0.8884\n",
            "Epoch 15/50\n",
            "198/198 [==============================] - 79s 400ms/step - loss: 0.2575 - accuracy: 0.8874 - val_loss: 0.2664 - val_accuracy: 0.8825\n",
            "Epoch 16/50\n",
            "198/198 [==============================] - 80s 405ms/step - loss: 0.2567 - accuracy: 0.8895 - val_loss: 0.2908 - val_accuracy: 0.8899\n",
            "Epoch 17/50\n",
            "198/198 [==============================] - 80s 402ms/step - loss: 0.2494 - accuracy: 0.8903 - val_loss: 0.2532 - val_accuracy: 0.8980\n",
            "Epoch 18/50\n",
            "198/198 [==============================] - 79s 400ms/step - loss: 0.2535 - accuracy: 0.8911 - val_loss: 0.2397 - val_accuracy: 0.8936\n",
            "Epoch 19/50\n",
            "198/198 [==============================] - 81s 408ms/step - loss: 0.2418 - accuracy: 0.8928 - val_loss: 0.2585 - val_accuracy: 0.8847\n",
            "Epoch 20/50\n",
            "198/198 [==============================] - 79s 400ms/step - loss: 0.2389 - accuracy: 0.8934 - val_loss: 0.2711 - val_accuracy: 0.8973\n",
            "Epoch 21/50\n",
            "198/198 [==============================] - 81s 410ms/step - loss: 0.2422 - accuracy: 0.8933 - val_loss: 0.2693 - val_accuracy: 0.8987\n",
            "Epoch 22/50\n",
            "198/198 [==============================] - 80s 403ms/step - loss: 0.2301 - accuracy: 0.8994 - val_loss: 0.2693 - val_accuracy: 0.8950\n",
            "Epoch 23/50\n",
            "198/198 [==============================] - 81s 406ms/step - loss: 0.2310 - accuracy: 0.9029 - val_loss: 0.2515 - val_accuracy: 0.8987\n",
            "Epoch 24/50\n",
            "198/198 [==============================] - 80s 403ms/step - loss: 0.2281 - accuracy: 0.9034 - val_loss: 0.2539 - val_accuracy: 0.8987\n",
            "Epoch 25/50\n",
            "198/198 [==============================] - 81s 409ms/step - loss: 0.2299 - accuracy: 0.8994 - val_loss: 0.2473 - val_accuracy: 0.9024\n",
            "Epoch 26/50\n",
            "198/198 [==============================] - 79s 401ms/step - loss: 0.2162 - accuracy: 0.9013 - val_loss: 0.2739 - val_accuracy: 0.8921\n",
            "Epoch 27/50\n",
            "198/198 [==============================] - 81s 410ms/step - loss: 0.2258 - accuracy: 0.9034 - val_loss: 0.2536 - val_accuracy: 0.8877\n",
            "Epoch 28/50\n",
            "198/198 [==============================] - 79s 400ms/step - loss: 0.2181 - accuracy: 0.9039 - val_loss: 0.2437 - val_accuracy: 0.8965\n",
            "Epoch 29/50\n",
            "198/198 [==============================] - 80s 406ms/step - loss: 0.2195 - accuracy: 0.9045 - val_loss: 0.2761 - val_accuracy: 0.8950\n",
            "Epoch 30/50\n",
            "198/198 [==============================] - 79s 400ms/step - loss: 0.2172 - accuracy: 0.9050 - val_loss: 0.2564 - val_accuracy: 0.8965\n",
            "Epoch 31/50\n",
            "198/198 [==============================] - 81s 407ms/step - loss: 0.2160 - accuracy: 0.9072 - val_loss: 0.2660 - val_accuracy: 0.8936\n",
            "Epoch 32/50\n",
            "198/198 [==============================] - 79s 397ms/step - loss: 0.2010 - accuracy: 0.9120 - val_loss: 0.2825 - val_accuracy: 0.8862\n",
            "Epoch 33/50\n",
            "198/198 [==============================] - 80s 405ms/step - loss: 0.2006 - accuracy: 0.9129 - val_loss: 0.3536 - val_accuracy: 0.8566\n",
            "Epoch 34/50\n",
            "198/198 [==============================] - 88s 443ms/step - loss: 0.2093 - accuracy: 0.9135 - val_loss: 0.3006 - val_accuracy: 0.8854\n",
            "Epoch 35/50\n",
            "198/198 [==============================] - 91s 457ms/step - loss: 0.1980 - accuracy: 0.9164 - val_loss: 0.2574 - val_accuracy: 0.8943\n",
            "Epoch 36/50\n",
            "198/198 [==============================] - 81s 407ms/step - loss: 0.2011 - accuracy: 0.9143 - val_loss: 0.2649 - val_accuracy: 0.8958\n",
            "Epoch 37/50\n",
            "198/198 [==============================] - 80s 405ms/step - loss: 0.2019 - accuracy: 0.9170 - val_loss: 0.2677 - val_accuracy: 0.8958\n",
            "Epoch 38/50\n",
            "198/198 [==============================] - 79s 397ms/step - loss: 0.1941 - accuracy: 0.9156 - val_loss: 0.2541 - val_accuracy: 0.9076\n",
            "Epoch 39/50\n",
            "198/198 [==============================] - 80s 404ms/step - loss: 0.2015 - accuracy: 0.9135 - val_loss: 0.2540 - val_accuracy: 0.9017\n",
            "Epoch 40/50\n",
            "198/198 [==============================] - 79s 398ms/step - loss: 0.1941 - accuracy: 0.9203 - val_loss: 0.2595 - val_accuracy: 0.9047\n",
            "Epoch 41/50\n",
            "198/198 [==============================] - 81s 408ms/step - loss: 0.1820 - accuracy: 0.9203 - val_loss: 0.2566 - val_accuracy: 0.9061\n",
            "Epoch 42/50\n",
            "198/198 [==============================] - 79s 399ms/step - loss: 0.1881 - accuracy: 0.9215 - val_loss: 0.2333 - val_accuracy: 0.9091\n",
            "Epoch 43/50\n",
            "198/198 [==============================] - 81s 408ms/step - loss: 0.1907 - accuracy: 0.9222 - val_loss: 0.2384 - val_accuracy: 0.9113\n",
            "Epoch 44/50\n",
            "198/198 [==============================] - 80s 404ms/step - loss: 0.1841 - accuracy: 0.9200 - val_loss: 0.3029 - val_accuracy: 0.8980\n",
            "Epoch 45/50\n",
            "198/198 [==============================] - 82s 413ms/step - loss: 0.1985 - accuracy: 0.9205 - val_loss: 0.2695 - val_accuracy: 0.8884\n",
            "Epoch 46/50\n",
            "198/198 [==============================] - 80s 404ms/step - loss: 0.1931 - accuracy: 0.9202 - val_loss: 0.2669 - val_accuracy: 0.8914\n",
            "Epoch 47/50\n",
            "198/198 [==============================] - 81s 410ms/step - loss: 0.1757 - accuracy: 0.9211 - val_loss: 0.2663 - val_accuracy: 0.9010\n",
            "Epoch 48/50\n",
            "198/198 [==============================] - 81s 410ms/step - loss: 0.1722 - accuracy: 0.9287 - val_loss: 0.2641 - val_accuracy: 0.9047\n",
            "Epoch 49/50\n",
            "198/198 [==============================] - 83s 417ms/step - loss: 0.1748 - accuracy: 0.9272 - val_loss: 0.2308 - val_accuracy: 0.9135\n",
            "Epoch 50/50\n",
            "198/198 [==============================] - 80s 404ms/step - loss: 0.1754 - accuracy: 0.9275 - val_loss: 0.2545 - val_accuracy: 0.8987\n"
          ]
        }
      ],
      "source": [
        "hist=model.fit_generator(\n",
        "    train_generator,\n",
        "    epochs=50,\n",
        "    validation_data=validation_generator,\n",
        "    )"
      ]
    },
    {
      "cell_type": "markdown",
      "source": [
        "#Model Evaluation"
      ],
      "metadata": {
        "id": "XyRgztNyBXe9"
      }
    },
    {
      "cell_type": "code",
      "execution_count": null,
      "metadata": {
        "id": "VgWMfIq2qvqg",
        "colab": {
          "base_uri": "https://localhost:8080/"
        },
        "outputId": "90aa2b8e-ce21-4e6c-f276-436a09fcccfb"
      },
      "outputs": [
        {
          "output_type": "stream",
          "name": "stderr",
          "text": [
            "<ipython-input-16-e4ade065aa26>:1: UserWarning: `Model.evaluate_generator` is deprecated and will be removed in a future version. Please use `Model.evaluate`, which supports generators.\n",
            "  model.evaluate_generator(train_generator)\n"
          ]
        },
        {
          "output_type": "execute_result",
          "data": {
            "text/plain": [
              "[0.08687540888786316, 0.9683293700218201]"
            ]
          },
          "metadata": {},
          "execution_count": 16
        }
      ],
      "source": [
        "model.evaluate_generator(train_generator)"
      ]
    },
    {
      "cell_type": "code",
      "execution_count": null,
      "metadata": {
        "id": "KzwVFbpAq1uj",
        "colab": {
          "base_uri": "https://localhost:8080/"
        },
        "outputId": "0c5abe8c-d169-4298-a946-3fede2245b88"
      },
      "outputs": [
        {
          "output_type": "stream",
          "name": "stderr",
          "text": [
            "<ipython-input-17-8951cfd684a1>:1: UserWarning: `Model.evaluate_generator` is deprecated and will be removed in a future version. Please use `Model.evaluate`, which supports generators.\n",
            "  model.evaluate_generator(validation_generator)\n"
          ]
        },
        {
          "output_type": "execute_result",
          "data": {
            "text/plain": [
              "[0.26522231101989746, 0.9101995825767517]"
            ]
          },
          "metadata": {},
          "execution_count": 17
        }
      ],
      "source": [
        "model.evaluate_generator(validation_generator)"
      ]
    },
    {
      "cell_type": "code",
      "execution_count": null,
      "metadata": {
        "id": "8ocO_YMhs5k5"
      },
      "outputs": [],
      "source": []
    }
  ],
  "metadata": {
    "accelerator": "GPU",
    "colab": {
      "provenance": [],
      "include_colab_link": true
    },
    "gpuClass": "standard",
    "kernelspec": {
      "display_name": "Python 3",
      "name": "python3"
    },
    "language_info": {
      "name": "python"
    }
  },
  "nbformat": 4,
  "nbformat_minor": 0
}